{
  "nbformat": 4,
  "nbformat_minor": 0,
  "metadata": {
    "colab": {
      "provenance": [],
      "authorship_tag": "ABX9TyO4NvU9+dircTjei5UcUOr2",
      "include_colab_link": true
    },
    "kernelspec": {
      "name": "python3",
      "display_name": "Python 3"
    },
    "language_info": {
      "name": "python"
    }
  },
  "cells": [
    {
      "cell_type": "markdown",
      "metadata": {
        "id": "view-in-github",
        "colab_type": "text"
      },
      "source": [
        "<a href=\"https://colab.research.google.com/github/raunakyadav92/2d-bike-ride/blob/main/import_pygame_import_random_import_sys_pygame_init()_Screen_setup_WIDTH%2C_HEIGHT_%3D_500%2C_600_win_%3D_pygame_display_set_mode((WIDTH%2C_HEIGHT))_pygame_display_set_caption(%22Catch_the_Falling_Objects%22)_Colors_WHITE_%3D_(255%2C_255%2C_255)_BLACK_%3D_(0%2C_0%2C_0)_BAS.ipynb\" target=\"_parent\"><img src=\"https://colab.research.google.com/assets/colab-badge.svg\" alt=\"Open In Colab\"/></a>"
      ]
    },
    {
      "cell_type": "code",
      "execution_count": null,
      "metadata": {
        "id": "V3hiO8X1PGsM",
        "outputId": "33d96c0b-7569-4fee-d774-002dadff1b2f",
        "colab": {
          "base_uri": "https://localhost:8080/"
        }
      },
      "outputs": [
        {
          "output_type": "stream",
          "name": "stdout",
          "text": [
            "Requirement already satisfied: pygame in /usr/local/lib/python3.11/dist-packages (2.6.1)\n"
          ]
        }
      ],
      "source": [
        "pip install pygame\n"
      ]
    },
    {
      "cell_type": "code",
      "source": [
        "import pygame\n",
        "import random\n",
        "import sys\n",
        "\n",
        "pygame.init()\n",
        "\n",
        "# Screen setup\n",
        "WIDTH, HEIGHT = 500, 600\n",
        "win = pygame.display.set_mode((WIDTH, HEIGHT))\n",
        "pygame.display.set_caption(\"Catch the Falling Objects\")\n",
        "\n",
        "# Colors\n",
        "WHITE = (255, 255, 255)\n",
        "BLACK = (0, 0, 0)\n",
        "BASKET_COLOR = (255, 165, 0)\n",
        "OBJECT_COLOR = (255, 0, 0)\n",
        "\n",
        "# Basket setup\n",
        "basket = pygame.Rect(WIDTH // 2 - 50, HEIGHT - 40, 100, 20)\n",
        "basket_speed = 7\n",
        "\n",
        "# Falling objects\n",
        "objects = []\n",
        "object_speed = 5\n",
        "SPAWNOBJECT = pygame.USEREVENT\n",
        "pygame.time.set_timer(SPAWNOBJECT, 1000)\n",
        "\n",
        "score = 0\n",
        "font = pygame.font.SysFont(\"Arial\", 30)\n",
        "clock = pygame.time.Clock()\n",
        "\n",
        "def draw_window():\n",
        "    win.fill(WHITE)\n",
        "    pygame.draw.rect(win, BASKET_COLOR, basket)\n",
        "\n",
        "    for obj in objects:\n",
        "        pygame.draw.rect(win, OBJECT_COLOR, obj)\n",
        "\n",
        "    score_text = font.render(f\"Score: {score}\", True, BLACK)\n",
        "    win.blit(score_text, (10, 10))\n",
        "    pygame.display.update()\n",
        "\n",
        "def main():\n",
        "    global score\n",
        "    run = True\n",
        "    while run:\n",
        "        clock.tick(60)\n",
        "\n",
        "        for event in pygame.event.get():\n",
        "            if event.type == pygame.QUIT:\n",
        "                run = False\n",
        "                pygame.quit()\n",
        "                sys.exit()\n",
        "\n",
        "            if event.type == SPAWNOBJECT:\n",
        "                obj = pygame.Rect(random.randint(0, WIDTH - 30), -30, 30, 30)\n",
        "                objects.append(obj)\n",
        "\n",
        "        # Move basket\n",
        "        keys = pygame.key.get_pressed()\n",
        "        if keys[pygame.K_LEFT] and basket.left > 0:\n",
        "            basket.x -= basket_speed\n",
        "        if keys[pygame.K_RIGHT] and basket.right < WIDTH:\n",
        "            basket.x += basket_speed\n",
        "\n",
        "        # Move objects\n",
        "        for obj in objects:\n",
        "            obj.y += object_speed\n",
        "            if obj.colliderect(basket):\n",
        "                score += 1\n",
        "                objects.remove(obj)\n",
        "            elif obj.top > HEIGHT:\n",
        "                objects.remove(obj)\n",
        "\n",
        "        draw_window()\n",
        "\n",
        "if __name__ == \"__main__\":\n",
        "    main()\n"
      ],
      "metadata": {
        "id": "JLNAmzalPL9W"
      },
      "execution_count": null,
      "outputs": []
    },
    {
      "cell_type": "code",
      "source": [],
      "metadata": {
        "id": "CUzSIsJuPLyV"
      },
      "execution_count": null,
      "outputs": []
    }
  ]
}