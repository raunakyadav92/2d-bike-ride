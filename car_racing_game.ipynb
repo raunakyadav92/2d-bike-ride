{
  "nbformat": 4,
  "nbformat_minor": 0,
  "metadata": {
    "colab": {
      "provenance": [],
      "authorship_tag": "ABX9TyOR7k8x22LnP47IGRxyJZgo",
      "include_colab_link": true
    },
    "kernelspec": {
      "name": "python3",
      "display_name": "Python 3"
    },
    "language_info": {
      "name": "python"
    }
  },
  "cells": [
    {
      "cell_type": "markdown",
      "metadata": {
        "id": "view-in-github",
        "colab_type": "text"
      },
      "source": [
        "<a href=\"https://colab.research.google.com/github/raunakyadav92/2d-bike-ride/blob/main/car_racing_game.ipynb\" target=\"_parent\"><img src=\"https://colab.research.google.com/assets/colab-badge.svg\" alt=\"Open In Colab\"/></a>"
      ]
    },
    {
      "cell_type": "code",
      "execution_count": 1,
      "metadata": {
        "colab": {
          "base_uri": "https://localhost:8080/",
          "height": 245
        },
        "id": "w80DEnwSq5FY",
        "outputId": "14e5e49f-6eec-487c-f7e4-bad5c44a27fc"
      },
      "outputs": [
        {
          "output_type": "stream",
          "name": "stdout",
          "text": [
            "pygame 2.6.1 (SDL 2.28.4, Python 3.11.13)\n",
            "Hello from the pygame community. https://www.pygame.org/contribute.html\n"
          ]
        },
        {
          "output_type": "error",
          "ename": "FileNotFoundError",
          "evalue": "No file 'player.png' found in working directory '/content'.",
          "traceback": [
            "\u001b[0;31m---------------------------------------------------------------------------\u001b[0m",
            "\u001b[0;31mFileNotFoundError\u001b[0m                         Traceback (most recent call last)",
            "\u001b[0;32m/tmp/ipython-input-1-1357283289.py\u001b[0m in \u001b[0;36m<cell line: 0>\u001b[0;34m()\u001b[0m\n\u001b[1;32m     18\u001b[0m \u001b[0;34m\u001b[0m\u001b[0m\n\u001b[1;32m     19\u001b[0m \u001b[0;31m# Load Car Images\u001b[0m\u001b[0;34m\u001b[0m\u001b[0;34m\u001b[0m\u001b[0m\n\u001b[0;32m---> 20\u001b[0;31m \u001b[0mplayer_car\u001b[0m \u001b[0;34m=\u001b[0m \u001b[0mpygame\u001b[0m\u001b[0;34m.\u001b[0m\u001b[0mimage\u001b[0m\u001b[0;34m.\u001b[0m\u001b[0mload\u001b[0m\u001b[0;34m(\u001b[0m\u001b[0;34m'player.png'\u001b[0m\u001b[0;34m)\u001b[0m  \u001b[0;31m# Your player car image\u001b[0m\u001b[0;34m\u001b[0m\u001b[0;34m\u001b[0m\u001b[0m\n\u001b[0m\u001b[1;32m     21\u001b[0m \u001b[0menemy_car\u001b[0m \u001b[0;34m=\u001b[0m \u001b[0mpygame\u001b[0m\u001b[0;34m.\u001b[0m\u001b[0mimage\u001b[0m\u001b[0;34m.\u001b[0m\u001b[0mload\u001b[0m\u001b[0;34m(\u001b[0m\u001b[0;34m'enemy.png'\u001b[0m\u001b[0;34m)\u001b[0m    \u001b[0;31m# Your enemy car image\u001b[0m\u001b[0;34m\u001b[0m\u001b[0;34m\u001b[0m\u001b[0m\n\u001b[1;32m     22\u001b[0m \u001b[0;34m\u001b[0m\u001b[0m\n",
            "\u001b[0;31mFileNotFoundError\u001b[0m: No file 'player.png' found in working directory '/content'."
          ]
        }
      ],
      "source": [
        "import pygame\n",
        "import random\n",
        "import sys\n",
        "\n",
        "pygame.init()\n",
        "\n",
        "# Screen Setup\n",
        "WIDTH, HEIGHT = 400, 600\n",
        "win = pygame.display.set_mode((WIDTH, HEIGHT))\n",
        "pygame.display.set_caption(\"Car Racing Game\")\n",
        "\n",
        "# Colors\n",
        "WHITE = (255, 255, 255)\n",
        "RED = (255, 0, 0)\n",
        "\n",
        "# Clock\n",
        "clock = pygame.time.Clock()\n",
        "\n",
        "# Load Car Images\n",
        "player_car = pygame.image.load('player.png')  # Your player car image\n",
        "enemy_car = pygame.image.load('enemy.png')    # Your enemy car image\n",
        "\n",
        "# Resize\n",
        "player_car = pygame.transform.scale(player_car, (50, 100))\n",
        "enemy_car = pygame.transform.scale(enemy_car, (50, 100))\n",
        "\n",
        "# Initial Positions\n",
        "player_x = WIDTH // 2 - 25\n",
        "player_y = HEIGHT - 120\n",
        "enemy_x = random.randint(0, WIDTH - 50)\n",
        "enemy_y = -100\n",
        "enemy_speed = 5\n",
        "\n",
        "score = 0\n",
        "font = pygame.font.SysFont(None, 36)\n",
        "\n",
        "# Main Game Loop\n",
        "run = True\n",
        "while run:\n",
        "    clock.tick(60)\n",
        "    win.fill(WHITE)\n",
        "\n",
        "    # Display Cars\n",
        "    win.blit(player_car, (player_x, player_y))\n",
        "    win.blit(enemy_car, (enemy_x, enemy_y))\n",
        "\n",
        "    # Display Score\n",
        "    score_text = font.render(f\"Score: {score}\", True, (0, 0, 0))\n",
        "    win.blit(score_text, (10, 10))\n",
        "\n",
        "    enemy_y += enemy_speed\n",
        "\n",
        "    if enemy_y > HEIGHT:\n",
        "        enemy_y = -100\n",
        "        enemy_x = random.randint(0, WIDTH - 50)\n",
        "        score += 1\n",
        "\n",
        "    # Movement Keys\n",
        "    keys = pygame.key.get_pressed()\n",
        "    if keys[pygame.K_LEFT] and player_x > 0:\n",
        "        player_x -= 5\n",
        "    if keys[pygame.K_RIGHT] and player_x < WIDTH - 50:\n",
        "        player_x += 5\n",
        "\n",
        "    # Collision Detection\n",
        "    if (player_y < enemy_y + 100) and (player_y + 100 > enemy_y) and \\\n",
        "       (player_x < enemy_x + 50) and (player_x + 50 > enemy_x):\n",
        "        pygame.quit()\n",
        "        sys.exit(\"Game Over! Your Score: \" + str(score))\n",
        "\n",
        "    for event in pygame.event.get():\n",
        "        if event.type == pygame.QUIT:\n",
        "            run = False\n",
        "\n",
        "    pygame.display.update()\n",
        "\n",
        "pygame.quit()\n"
      ]
    }
  ]
}